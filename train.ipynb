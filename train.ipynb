{
 "cells": [
  {
   "cell_type": "code",
   "execution_count": 1,
   "id": "d87df64e-34d4-45c9-a63e-bae7d2268890",
   "metadata": {
    "execution": {
     "iopub.execute_input": "2022-11-21T06:44:55.152798Z",
     "iopub.status.busy": "2022-11-21T06:44:55.152384Z",
     "iopub.status.idle": "2022-11-21T06:44:59.852155Z",
     "shell.execute_reply": "2022-11-21T06:44:59.851096Z",
     "shell.execute_reply.started": "2022-11-21T06:44:55.152724Z"
    }
   },
   "outputs": [],
   "source": [
    "import os\n",
    "from zipfile import ZipFile\n",
    "import tensorflow as tf\n",
    "from tensorflow import keras\n",
    "from tensorflow.keras import layers\n",
    "from tqdm import tqdm\n",
    "import numpy as np\n",
    "import matplotlib.pyplot as plt\n",
    "import gdown"
   ]
  },
  {
   "cell_type": "code",
   "execution_count": 2,
   "id": "8576d87f-a969-4836-8149-fc32689b0e09",
   "metadata": {
    "execution": {
     "iopub.execute_input": "2022-11-21T06:45:06.005649Z",
     "iopub.status.busy": "2022-11-21T06:45:06.003681Z",
     "iopub.status.idle": "2022-11-21T06:45:06.138247Z",
     "shell.execute_reply": "2022-11-21T06:45:06.136426Z",
     "shell.execute_reply.started": "2022-11-21T06:45:06.005578Z"
    }
   },
   "outputs": [],
   "source": [
    "physical_devices = tf.config.list_physical_devices(\"GPU\")\n",
    "tf.config.experimental.set_memory_growth(physical_devices[0], True)"
   ]
  },
  {
   "cell_type": "code",
   "execution_count": 4,
   "id": "06634702-256a-4f3d-9acb-3aea4a4636c2",
   "metadata": {
    "execution": {
     "iopub.execute_input": "2022-11-21T03:42:19.219938Z",
     "iopub.status.busy": "2022-11-21T03:42:19.218590Z",
     "iopub.status.idle": "2022-11-21T03:44:57.001625Z",
     "shell.execute_reply": "2022-11-21T03:44:57.000785Z",
     "shell.execute_reply.started": "2022-11-21T03:42:19.219885Z"
    }
   },
   "outputs": [
    {
     "name": "stdout",
     "output_type": "stream",
     "text": [
      "Found 202599 files belonging to 1 classes.\n"
     ]
    }
   ],
   "source": [
    "dataset = keras.preprocessing.image_dataset_from_directory(\n",
    "    directory=\"celeb_dataset/img_align_celeba\", label_mode=None, image_size=(64, 64), batch_size=64,\n",
    "    shuffle=True\n",
    ").map(lambda x: x / 255.0)"
   ]
  },
  {
   "cell_type": "code",
   "execution_count": 5,
   "id": "15763e9d-a4d2-459c-9aee-1ea575388e92",
   "metadata": {
    "execution": {
     "iopub.execute_input": "2022-11-21T03:44:57.002859Z",
     "iopub.status.busy": "2022-11-21T03:44:57.002621Z",
     "iopub.status.idle": "2022-11-21T03:44:57.046336Z",
     "shell.execute_reply": "2022-11-21T03:44:57.044823Z",
     "shell.execute_reply.started": "2022-11-21T03:44:57.002859Z"
    }
   },
   "outputs": [],
   "source": [
    "folder = 'generated_images'\n",
    "for filename in os.listdir(folder):\n",
    "    file_path = os.path.join(folder, filename)\n",
    "    try:\n",
    "        if os.path.isfile(file_path) or os.path.islink(file_path):\n",
    "            os.unlink(file_path)\n",
    "    except Exception as e:\n",
    "        print('Failed to delete %s. Reason: %s' % (file_path, e))"
   ]
  },
  {
   "cell_type": "code",
   "execution_count": 6,
   "id": "2a4d298d-a370-4a9d-87e3-7000ef6ff7e0",
   "metadata": {
    "execution": {
     "iopub.execute_input": "2022-11-21T03:44:57.050339Z",
     "iopub.status.busy": "2022-11-21T03:44:57.049781Z",
     "iopub.status.idle": "2022-11-21T03:44:57.307343Z",
     "shell.execute_reply": "2022-11-21T03:44:57.305737Z",
     "shell.execute_reply.started": "2022-11-21T03:44:57.050294Z"
    }
   },
   "outputs": [
    {
     "name": "stdout",
     "output_type": "stream",
     "text": [
      "Model: \"sequential\"\n",
      "_________________________________________________________________\n",
      " Layer (type)                Output Shape              Param #   \n",
      "=================================================================\n",
      " conv2d (Conv2D)             (None, 32, 32, 64)        3136      \n",
      "                                                                 \n",
      " leaky_re_lu (LeakyReLU)     (None, 32, 32, 64)        0         \n",
      "                                                                 \n",
      " conv2d_1 (Conv2D)           (None, 16, 16, 128)       131200    \n",
      "                                                                 \n",
      " leaky_re_lu_1 (LeakyReLU)   (None, 16, 16, 128)       0         \n",
      "                                                                 \n",
      " conv2d_2 (Conv2D)           (None, 8, 8, 128)         262272    \n",
      "                                                                 \n",
      " leaky_re_lu_2 (LeakyReLU)   (None, 8, 8, 128)         0         \n",
      "                                                                 \n",
      " flatten (Flatten)           (None, 8192)              0         \n",
      "                                                                 \n",
      " dropout (Dropout)           (None, 8192)              0         \n",
      "                                                                 \n",
      " dense (Dense)               (None, 1)                 8193      \n",
      "                                                                 \n",
      "=================================================================\n",
      "Total params: 404,801\n",
      "Trainable params: 404,801\n",
      "Non-trainable params: 0\n",
      "_________________________________________________________________\n",
      "None\n",
      "Model: \"sequential_1\"\n",
      "_________________________________________________________________\n",
      " Layer (type)                Output Shape              Param #   \n",
      "=================================================================\n",
      " dense_1 (Dense)             (None, 8192)              1056768   \n",
      "                                                                 \n",
      " reshape (Reshape)           (None, 8, 8, 128)         0         \n",
      "                                                                 \n",
      " conv2d_transpose (Conv2DTra  (None, 16, 16, 128)      262272    \n",
      " nspose)                                                         \n",
      "                                                                 \n",
      " leaky_re_lu_3 (LeakyReLU)   (None, 16, 16, 128)       0         \n",
      "                                                                 \n",
      " conv2d_transpose_1 (Conv2DT  (None, 32, 32, 256)      524544    \n",
      " ranspose)                                                       \n",
      "                                                                 \n",
      " leaky_re_lu_4 (LeakyReLU)   (None, 32, 32, 256)       0         \n",
      "                                                                 \n",
      " conv2d_transpose_2 (Conv2DT  (None, 64, 64, 512)      2097664   \n",
      " ranspose)                                                       \n",
      "                                                                 \n",
      " leaky_re_lu_5 (LeakyReLU)   (None, 64, 64, 512)       0         \n",
      "                                                                 \n",
      " conv2d_3 (Conv2D)           (None, 64, 64, 3)         38403     \n",
      "                                                                 \n",
      "=================================================================\n",
      "Total params: 3,979,651\n",
      "Trainable params: 3,979,651\n",
      "Non-trainable params: 0\n",
      "_________________________________________________________________\n",
      "None\n"
     ]
    }
   ],
   "source": [
    "discriminator = keras.Sequential(\n",
    "    [\n",
    "        keras.Input(shape=(64, 64, 3)),\n",
    "        layers.Conv2D(64, kernel_size=4, strides=2, padding=\"same\"),\n",
    "        layers.LeakyReLU(0.2),\n",
    "        layers.Conv2D(128, kernel_size=4, strides=2, padding=\"same\"),\n",
    "        layers.LeakyReLU(0.2),\n",
    "        layers.Conv2D(128, kernel_size=4, strides=2, padding=\"same\"),\n",
    "        layers.LeakyReLU(0.2),\n",
    "        layers.Flatten(),\n",
    "        layers.Dropout(0.2),\n",
    "        layers.Dense(1, activation=\"sigmoid\"),\n",
    "    ]\n",
    ")\n",
    "\n",
    "print(discriminator.summary())\n",
    "\n",
    "latent_dim = 128\n",
    "generator = keras.Sequential(\n",
    "    [\n",
    "        layers.Input(shape=(latent_dim,)),\n",
    "        layers.Dense(8 * 8 * 128),\n",
    "        layers.Reshape((8, 8, 128)),\n",
    "        layers.Conv2DTranspose(128, kernel_size=4, strides=2, padding=\"same\"),\n",
    "        layers.LeakyReLU(0.2),\n",
    "        layers.Conv2DTranspose(256, kernel_size=4, strides=2, padding=\"same\"),\n",
    "        layers.LeakyReLU(0.2),\n",
    "        layers.Conv2DTranspose(512, kernel_size=4, strides=2, padding=\"same\"),\n",
    "        layers.LeakyReLU(0.2),\n",
    "        layers.Conv2D(3, kernel_size=5, padding=\"same\", activation=\"sigmoid\"),\n",
    "    ]\n",
    ")\n",
    "\n",
    "print(generator.summary())\n",
    "\n",
    "opt_gen = keras.optimizers.Adam(1e-4)\n",
    "opt_disc = keras.optimizers.Adam(1e-4)\n",
    "\n",
    "loss_fn = keras.losses.BinaryCrossentropy()\n"
   ]
  },
  {
   "cell_type": "code",
   "execution_count": 7,
   "id": "c0dbe96f-02dd-4fe5-b8e6-782a380756b0",
   "metadata": {
    "execution": {
     "iopub.execute_input": "2022-11-21T03:44:57.309646Z",
     "iopub.status.busy": "2022-11-21T03:44:57.309267Z",
     "iopub.status.idle": "2022-11-21T03:44:57.730919Z",
     "shell.execute_reply": "2022-11-21T03:44:57.729873Z",
     "shell.execute_reply.started": "2022-11-21T03:44:57.309589Z"
    }
   },
   "outputs": [],
   "source": [
    "checkpoint_path = \"checkpoint/cp-{epoch:04d}.ckpt\"\n",
    "checkpoint_dir = os.path.dirname(checkpoint_path)\n",
    "\n",
    "# epoch counter\n",
    "ep_cnt = tf.Variable(initial_value=0, trainable=False, dtype=tf.int64)\n",
    "\n",
    "checkpoint = tf.train.Checkpoint(**dict(generator=generator, discriminator=discriminator, opt_gen=opt_gen, opt_disc=opt_disc, ep_cnt= ep_cnt))\n",
    "\n",
    "cp_manager = tf.train.CheckpointManager(checkpoint, checkpoint_dir, 5)\n",
    "\n",
    "# get latest checkpoint\n",
    "try:\n",
    "    checkpoint.restore(cp_manager.latest_checkpoint).assert_existing_objects_matched()\n",
    "except Exception as e:\n",
    "    print(e)\n"
   ]
  },
  {
   "cell_type": "code",
   "execution_count": 10,
   "id": "ce933bbc-ae67-4a62-b688-4a8fae96fe9a",
   "metadata": {
    "execution": {
     "iopub.execute_input": "2022-11-21T03:48:08.987171Z",
     "iopub.status.busy": "2022-11-21T03:48:08.986819Z",
     "iopub.status.idle": "2022-11-21T03:48:09.000991Z",
     "shell.execute_reply": "2022-11-21T03:48:08.999408Z",
     "shell.execute_reply.started": "2022-11-21T03:48:08.987144Z"
    }
   },
   "outputs": [
    {
     "name": "stdout",
     "output_type": "stream",
     "text": [
      "<tf.Variable 'Variable:0' shape=() dtype=int64, numpy=0>\n"
     ]
    }
   ],
   "source": [
    "print(ep_cnt)"
   ]
  },
  {
   "cell_type": "code",
   "execution_count": null,
   "id": "64314694-9ae5-4c6b-b8cb-d031fc8911b5",
   "metadata": {
    "execution": {
     "iopub.execute_input": "2022-11-21T03:51:21.003374Z",
     "iopub.status.busy": "2022-11-21T03:51:21.002941Z"
    }
   },
   "outputs": [
    {
     "name": "stdout",
     "output_type": "stream",
     "text": [
      "start epoch 0\n"
     ]
    },
    {
     "name": "stderr",
     "output_type": "stream",
     "text": [
      "100%|██████████| 3166/3166 [58:21<00:00,  1.11s/it]\n"
     ]
    },
    {
     "name": "stdout",
     "output_type": "stream",
     "text": [
      "start epoch 1\n"
     ]
    },
    {
     "name": "stderr",
     "output_type": "stream",
     "text": [
      "100%|██████████| 3166/3166 [57:49<00:00,  1.10s/it]\n"
     ]
    },
    {
     "name": "stdout",
     "output_type": "stream",
     "text": [
      "start epoch 2\n"
     ]
    },
    {
     "name": "stderr",
     "output_type": "stream",
     "text": [
      " 95%|█████████▌| 3012/3166 [54:49<02:48,  1.09s/it]"
     ]
    }
   ],
   "source": [
    "for epoch in range(25):\n",
    "    print(f\"start epoch {epoch}\")\n",
    "    if epoch < ep_cnt:\n",
    "        continue\n",
    "    \n",
    "    for idx, real in enumerate(tqdm(dataset)):\n",
    "        batch_size = real.shape[0]\n",
    "        random_latent_vectors = tf.random.normal(shape=(batch_size, latent_dim))\n",
    "\n",
    "        fake = generator(random_latent_vectors)\n",
    "\n",
    "        if idx % 100 == 0:\n",
    "            img = keras.preprocessing.image.array_to_img(fake[0])\n",
    "            img.save(f'generated_images/generated_image_{epoch}_i{idx}.png')\n",
    "        # train discriminator\n",
    "        with tf.GradientTape() as disc_tape:\n",
    "            loss_disc_real = loss_fn(tf.ones((batch_size, 1)), discriminator(real))\n",
    "            loss_disc_fake = loss_fn(tf.zeros((batch_size, 1)), discriminator(fake))\n",
    "            loss_disc = (loss_disc_fake + loss_disc_real)/2\n",
    "\n",
    "        grads = disc_tape.gradient(loss_disc, discriminator.trainable_weights)\n",
    "        opt_disc.apply_gradients(\n",
    "            zip(grads, discriminator.trainable_weights)\n",
    "        )\n",
    "\n",
    "        # train generator\n",
    "        with tf.GradientTape() as gen_tape:\n",
    "            fake = generator(random_latent_vectors)\n",
    "            output = discriminator(fake)\n",
    "            loss_gen = loss_fn(tf.ones(batch_size, 1), output)\n",
    "\n",
    "        grads = gen_tape.gradient(loss_gen, generator.trainable_weights)\n",
    "        opt_gen.apply_gradients(\n",
    "            zip(grads, generator.trainable_weights)\n",
    "        )\n",
    "    ep_cnt.assign_add(1)\n",
    "    cp_manager.save(checkpoint_number=epoch)"
   ]
  },
  {
   "cell_type": "code",
   "execution_count": null,
   "id": "b72097b5-fa38-465f-bfe8-214cd68308d3",
   "metadata": {
    "execution": {
     "iopub.status.busy": "2022-11-21T03:45:37.673284Z",
     "iopub.status.idle": "2022-11-21T03:45:37.673841Z",
     "shell.execute_reply": "2022-11-21T03:45:37.673599Z",
     "shell.execute_reply.started": "2022-11-21T03:45:37.673572Z"
    }
   },
   "outputs": [],
   "source": [
    "generator.save('saved_model/generator')\n",
    "discriminator.save('saved_model/discriminator')"
   ]
  }
 ],
 "metadata": {
  "kernelspec": {
   "display_name": "Python 3 (ipykernel)",
   "language": "python",
   "name": "python3"
  },
  "language_info": {
   "codemirror_mode": {
    "name": "ipython",
    "version": 3
   },
   "file_extension": ".py",
   "mimetype": "text/x-python",
   "name": "python",
   "nbconvert_exporter": "python",
   "pygments_lexer": "ipython3",
   "version": "3.9.13"
  }
 },
 "nbformat": 4,
 "nbformat_minor": 5
}
